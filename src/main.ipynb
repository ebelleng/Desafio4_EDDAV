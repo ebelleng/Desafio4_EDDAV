{
 "metadata": {
  "language_info": {
   "codemirror_mode": {
    "name": "ipython",
    "version": 3
   },
   "file_extension": ".py",
   "mimetype": "text/x-python",
   "name": "python",
   "nbconvert_exporter": "python",
   "pygments_lexer": "ipython3",
   "version": "3.8.7"
  },
  "orig_nbformat": 2,
  "kernelspec": {
   "name": "python387jvsc74a57bd0ab9f0d6875df534e255bdddd5e3e13c490806c098c5844e6abf9b46310383cba",
   "display_name": "Python 3.8.7 64-bit"
  },
  "metadata": {
   "interpreter": {
    "hash": "ab9f0d6875df534e255bdddd5e3e13c490806c098c5844e6abf9b46310383cba"
   }
  }
 },
 "nbformat": 4,
 "nbformat_minor": 2,
 "cells": [
  {
   "source": [
    "# Implementación de la red\n",
    "\n",
    "Se obtienen los datos iniciales desde el dataset de canciones de Spotify, se dividen los datos de entrenamiento y prueba. Luego se crea la red neuronal, se entrena y se generan las predicciones."
   ],
   "cell_type": "markdown",
   "metadata": {}
  },
  {
   "cell_type": "code",
   "execution_count": 45,
   "metadata": {},
   "outputs": [],
   "source": [
    "cd dataset/ # Se mueve el archivo a la ruta del dataset"
   ]
  },
  {
   "cell_type": "code",
   "execution_count": null,
   "metadata": {},
   "outputs": [],
   "source": [
    "from modules.NeuronalNetwork import *\n",
    "import modules.dataset as ds\n",
    "\n",
    "X,y = ds.get_values_dataset()\n",
    "X_train, X_test, y_train, y_test = train_test_split(X,y, test_size=0.3)\n",
    "\n",
    "size_X = len(X[0]) # Cantidad de valores del vector X\n",
    "size_y = len([y[0]]) # Cantidad de valores del vector y\n",
    "\n",
    "layers = [2, 3]\n",
    "\n",
    "nn = NeuronalNetwork(size_X, size_y, sigmoide)\n",
    "nn.add_layers(layers)\n",
    "\n",
    "nn.fit(X_train, y_train)\n",
    "\n",
    "predictions = nn.predictions(X_test)"
   ]
  }
 ]
}