{
 "metadata": {
  "language_info": {
   "codemirror_mode": {
    "name": "ipython",
    "version": 3
   },
   "file_extension": ".py",
   "mimetype": "text/x-python",
   "name": "python",
   "nbconvert_exporter": "python",
   "pygments_lexer": "ipython3",
   "version": "3.8.7"
  },
  "orig_nbformat": 2,
  "kernelspec": {
   "name": "python387jvsc74a57bd0ab9f0d6875df534e255bdddd5e3e13c490806c098c5844e6abf9b46310383cba",
   "display_name": "Python 3.8.7 64-bit"
  },
  "metadata": {
   "interpreter": {
    "hash": "ab9f0d6875df534e255bdddd5e3e13c490806c098c5844e6abf9b46310383cba"
   }
  }
 },
 "nbformat": 4,
 "nbformat_minor": 2,
 "cells": [
  {
   "source": [
    "# Dataset Spotify\n",
    "\n",
    "Se importa el dataset con la información de las canciones"
   ],
   "cell_type": "markdown",
   "metadata": {}
  },
  {
   "cell_type": "code",
   "execution_count": 6,
   "metadata": {},
   "outputs": [
    {
     "output_type": "execute_result",
     "data": {
      "text/plain": [
       "   acousticness  danceability  duration_ms  energy  instrumentalness  key  \\\n",
       "0        0.0102         0.833       204600   0.434          0.021900    2   \n",
       "1        0.1990         0.743       326933   0.359          0.006110    1   \n",
       "2        0.0344         0.838       185707   0.412          0.000234    2   \n",
       "3        0.6040         0.494       199413   0.338          0.510000    5   \n",
       "4        0.1800         0.678       392893   0.561          0.512000    5   \n",
       "\n",
       "   liveness  loudness  mode  speechiness    tempo  time_signature  valence  \\\n",
       "0    0.1650    -8.795     1       0.4310  150.062             4.0    0.286   \n",
       "1    0.1370   -10.401     1       0.0794  160.083             4.0    0.588   \n",
       "2    0.1590    -7.148     1       0.2890   75.044             4.0    0.173   \n",
       "3    0.0922   -15.236     1       0.0261   86.468             4.0    0.230   \n",
       "4    0.4390   -11.648     0       0.0694  174.004             4.0    0.904   \n",
       "\n",
       "   target      song_title            artist  \n",
       "0       1        Mask Off            Future  \n",
       "1       1         Redbone  Childish Gambino  \n",
       "2       1    Xanny Family            Future  \n",
       "3       1  Master Of None       Beach House  \n",
       "4       1  Parallel Lines       Junior Boys  "
      ],
      "text/html": "<div>\n<style scoped>\n    .dataframe tbody tr th:only-of-type {\n        vertical-align: middle;\n    }\n\n    .dataframe tbody tr th {\n        vertical-align: top;\n    }\n\n    .dataframe thead th {\n        text-align: right;\n    }\n</style>\n<table border=\"1\" class=\"dataframe\">\n  <thead>\n    <tr style=\"text-align: right;\">\n      <th></th>\n      <th>acousticness</th>\n      <th>danceability</th>\n      <th>duration_ms</th>\n      <th>energy</th>\n      <th>instrumentalness</th>\n      <th>key</th>\n      <th>liveness</th>\n      <th>loudness</th>\n      <th>mode</th>\n      <th>speechiness</th>\n      <th>tempo</th>\n      <th>time_signature</th>\n      <th>valence</th>\n      <th>target</th>\n      <th>song_title</th>\n      <th>artist</th>\n    </tr>\n  </thead>\n  <tbody>\n    <tr>\n      <th>0</th>\n      <td>0.0102</td>\n      <td>0.833</td>\n      <td>204600</td>\n      <td>0.434</td>\n      <td>0.021900</td>\n      <td>2</td>\n      <td>0.1650</td>\n      <td>-8.795</td>\n      <td>1</td>\n      <td>0.4310</td>\n      <td>150.062</td>\n      <td>4.0</td>\n      <td>0.286</td>\n      <td>1</td>\n      <td>Mask Off</td>\n      <td>Future</td>\n    </tr>\n    <tr>\n      <th>1</th>\n      <td>0.1990</td>\n      <td>0.743</td>\n      <td>326933</td>\n      <td>0.359</td>\n      <td>0.006110</td>\n      <td>1</td>\n      <td>0.1370</td>\n      <td>-10.401</td>\n      <td>1</td>\n      <td>0.0794</td>\n      <td>160.083</td>\n      <td>4.0</td>\n      <td>0.588</td>\n      <td>1</td>\n      <td>Redbone</td>\n      <td>Childish Gambino</td>\n    </tr>\n    <tr>\n      <th>2</th>\n      <td>0.0344</td>\n      <td>0.838</td>\n      <td>185707</td>\n      <td>0.412</td>\n      <td>0.000234</td>\n      <td>2</td>\n      <td>0.1590</td>\n      <td>-7.148</td>\n      <td>1</td>\n      <td>0.2890</td>\n      <td>75.044</td>\n      <td>4.0</td>\n      <td>0.173</td>\n      <td>1</td>\n      <td>Xanny Family</td>\n      <td>Future</td>\n    </tr>\n    <tr>\n      <th>3</th>\n      <td>0.6040</td>\n      <td>0.494</td>\n      <td>199413</td>\n      <td>0.338</td>\n      <td>0.510000</td>\n      <td>5</td>\n      <td>0.0922</td>\n      <td>-15.236</td>\n      <td>1</td>\n      <td>0.0261</td>\n      <td>86.468</td>\n      <td>4.0</td>\n      <td>0.230</td>\n      <td>1</td>\n      <td>Master Of None</td>\n      <td>Beach House</td>\n    </tr>\n    <tr>\n      <th>4</th>\n      <td>0.1800</td>\n      <td>0.678</td>\n      <td>392893</td>\n      <td>0.561</td>\n      <td>0.512000</td>\n      <td>5</td>\n      <td>0.4390</td>\n      <td>-11.648</td>\n      <td>0</td>\n      <td>0.0694</td>\n      <td>174.004</td>\n      <td>4.0</td>\n      <td>0.904</td>\n      <td>1</td>\n      <td>Parallel Lines</td>\n      <td>Junior Boys</td>\n    </tr>\n  </tbody>\n</table>\n</div>"
     },
     "metadata": {},
     "execution_count": 6
    }
   ],
   "source": [
    "import pandas as pd\n",
    "import numpy as np\n",
    "\n",
    "df = pd.read_csv(\"data.csv\", index_col=0)\n",
    "df.head()"
   ]
  },
  {
   "source": [
    "## Seleccion de los datos\n",
    "Del dataset original, se selecciona los datos numericos para analizar con la red neuronal."
   ],
   "cell_type": "markdown",
   "metadata": {}
  },
  {
   "cell_type": "code",
   "execution_count": 7,
   "metadata": {},
   "outputs": [],
   "source": [
    "# La variable X corresponde a los datos sobre las canciones con las que se quiere predecir\n",
    "X = df.drop(labels=['song_title', 'artist', 'target'], axis=1).values.tolist()\n",
    "\n",
    "# La variable y corresponde al gusto del usuario por la canción, se espera predecir este valor.\n",
    "y = df['target'].values.tolist()"
   ]
  },
  {
   "source": [
    "## División de datos\n",
    "A continuación se presenta la funcion encargada de dividir los datos para entrenamiento (70%) y pruebas (30%)."
   ],
   "cell_type": "markdown",
   "metadata": {}
  },
  {
   "cell_type": "code",
   "execution_count": 16,
   "metadata": {
    "tags": []
   },
   "outputs": [],
   "source": [
    "import random\n",
    "\n",
    "# Funcion recibe los datos de entrada (X,y) y separa de manera aleatoria en datos de entrenamiento y de prueba. \n",
    "def train_test_split(X, y, test_size=0.3):\n",
    "    # Inicialización de listas\n",
    "    X_train, X_test, y_train, y_test = (list(),list(),list(),list())\n",
    "    # Se define tamaño de entrenamiento (70%)\n",
    "    size_train = round(len(X)*(1 - test_size))\n",
    "    # Se genera una lista con los indices del 70% de datos aleatorios.\n",
    "    random_range = random.sample(range(len(X)), size_train)\n",
    "\n",
    "    for index in range(len(X)):\n",
    "        if index in random_range:\n",
    "            X_train.append( X[index] )\n",
    "            y_train.append( y[index] )\n",
    "        else:\n",
    "            X_test.append( X[index] )\n",
    "            y_test.append( y[index] )\n",
    "    \n",
    "    return (X_train, X_test, y_train, y_test)"
   ]
  },
  {
   "source": [
    "### Formato de salida\n",
    "Se realiza una prueba para comprobar que los datos esten siendo asignados correctamente"
   ],
   "cell_type": "markdown",
   "metadata": {}
  },
  {
   "cell_type": "code",
   "execution_count": 25,
   "metadata": {},
   "outputs": [
    {
     "output_type": "stream",
     "name": "stdout",
     "text": [
      "Datos de prueba\ny: 1\t X: [0.0344, 0.838, 185707.0, 0.412, 0.000234, 2.0, 0.159, -7.148, 1.0, 0.289, 75.044, 4.0, 0.173]\ny: 1\t X: [0.00208, 0.836, 226840.0, 0.603, 0.0, 7.0, 0.571, -7.792, 1.0, 0.237, 99.994, 4.0, 0.386]\ny: 1\t X: [0.0572, 0.525, 358187.0, 0.855, 0.0143, 5.0, 0.649, -7.372, 0.0, 0.0548, 111.951, 3.0, 0.524]\ny: 1\t X: [0.0239, 0.603, 270827.0, 0.955, 0.0451, 1.0, 0.119, -4.111, 1.0, 0.0458, 123.922, 4.0, 0.773]\ny: 1\t X: [0.314, 0.713, 195429.0, 0.611, 0.0, 1.0, 0.117, -6.702, 0.0, 0.241, 140.061, 4.0, 0.783]\nDatos de entrenamiento\ny: 1\t X: [0.0102, 0.833, 204600.0, 0.434, 0.0219, 2.0, 0.165, -8.795, 1.0, 0.431, 150.062, 4.0, 0.286]\ny: 1\t X: [0.199, 0.743, 326933.0, 0.359, 0.00611, 1.0, 0.137, -10.401, 1.0, 0.0794, 160.083, 4.0, 0.588]\ny: 1\t X: [0.604, 0.494, 199413.0, 0.338, 0.51, 5.0, 0.0922, -15.236, 1.0, 0.0261, 86.468, 4.0, 0.23]\ny: 1\t X: [0.18, 0.678, 392893.0, 0.561, 0.512, 5.0, 0.439, -11.648, 0.0, 0.0694, 174.004, 4.0, 0.904]\ny: 1\t X: [0.00479, 0.804, 251333.0, 0.56, 0.0, 8.0, 0.164, -6.682, 1.0, 0.185, 85.023, 4.0, 0.264]\n"
     ]
    }
   ],
   "source": [
    "# División de datos\n",
    "X_train, X_test, y_train, y_test = train_test_split(X, y, test_size=0.3)\n",
    "\n",
    "print('Datos de prueba')\n",
    "for i in range(5): print(f'y: {y_test[i]}\\t X: {X_test[i]}' )\n",
    "print('Datos de entrenamiento')\n",
    "for i in range(5): print(f'y: {y_train[i]}\\t X: {X_train[i]}' )"
   ]
  }
 ]
}